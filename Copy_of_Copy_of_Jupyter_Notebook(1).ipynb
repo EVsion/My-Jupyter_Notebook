{
  "cells": [
    {
      "cell_type": "markdown",
      "metadata": {
        "id": "RCWYwoGSlW11"
      },
      "source": [
        "<center>\n",
        "    <img src=\"https://s3-api.us-geo.objectstorage.softlayer.net/cf-courses-data/CognitiveClass/Logos/organization_logo/organization_logo.png\" width=\"300\" alt=\"cognitiveclass.ai logo\"  />\n",
        "</center>\n"
      ]
    },
    {
      "cell_type": "markdown",
      "metadata": {
        "id": "-LTgVw7klW2E"
      },
      "source": [
        "#### Add your code below following the instructions given in the course\n"
      ]
    },
    {
      "cell_type": "markdown",
      "source": [
        "My Jupyter Notebook on IBM Watson Studio\n"
      ],
      "metadata": {
        "id": "JgI8wSb1_XCy"
      }
    },
    {
      "cell_type": "markdown",
      "source": [
        "###**Elijah Commings**\n",
        "###Data Scianceist"
      ],
      "metadata": {
        "id": "F529VUOO_0an"
      }
    },
    {
      "cell_type": "markdown",
      "source": [
        "###*Data Science gives meaning to raw data and converts it into meaningful insights that can be used to grow the business and recognize market trends.  I am interested in data science because it using data to predict human behavior.* "
      ],
      "metadata": {
        "id": "xpBDaKCTAV2x"
      }
    },
    {
      "cell_type": "markdown",
      "source": [
        "My code is running function that says (hello world)"
      ],
      "metadata": {
        "id": "pf7gKrk4CVUY"
      }
    },
    {
      "cell_type": "code",
      "source": [
        "print([\"Hello World\"])"
      ],
      "metadata": {
        "colab": {
          "base_uri": "https://localhost:8080/"
        },
        "id": "XhPTsZryC_HG",
        "outputId": "54657f67-5e9d-4222-cfce-7ce48213368b"
      },
      "execution_count": null,
      "outputs": [
        {
          "output_type": "stream",
          "name": "stdout",
          "text": [
            "['Hello World']\n"
          ]
        }
      ]
    },
    {
      "cell_type": "markdown",
      "source": [
        "\n",
        "Task\n",
        "*   First Program\n",
        "*   Hello World\n",
        "\n",
        "Steps\n",
        "1.   Use <Print> Funtion\n",
        "2.   Use <Hello World> as a String\n",
        "\n",
        "Input / Output \n",
        "\n",
        "![index.png](data:image/png;base64,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)\n"
      ],
      "metadata": {
        "id": "ycsbYpz7G4QQ"
      }
    },
    {
      "cell_type": "markdown",
      "source": [],
      "metadata": {
        "id": "JzQrWkYzB7-_"
      }
    }
  ],
  "metadata": {
    "kernelspec": {
      "display_name": "Python 3",
      "language": "python",
      "name": "python3"
    },
    "language_info": {
      "codemirror_mode": {
        "name": "ipython",
        "version": 3
      },
      "file_extension": ".py",
      "mimetype": "text/x-python",
      "name": "python",
      "nbconvert_exporter": "python",
      "pygments_lexer": "ipython3",
      "version": "3.7.6"
    },
    "colab": {
      "provenance": [],
      "collapsed_sections": []
    }
  },
  "nbformat": 4,
  "nbformat_minor": 0
}